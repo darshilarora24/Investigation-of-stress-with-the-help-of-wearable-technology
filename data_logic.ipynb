{
  "nbformat": 4,
  "nbformat_minor": 0,
  "metadata": {
    "colab": {
      "provenance": []
    },
    "kernelspec": {
      "name": "python3",
      "display_name": "Python 3"
    },
    "language_info": {
      "name": "python"
    },
    "accelerator": "GPU",
    "gpuClass": "standard"
  },
  "cells": [
    {
      "cell_type": "code",
      "execution_count": 1,
      "metadata": {
        "id": "xJvzoIWYuStu",
        "colab": {
          "base_uri": "https://localhost:8080/"
        },
        "outputId": "338e45f6-d320-4ea9-a2f5-06191f77398e"
      },
      "outputs": [
        {
          "output_type": "stream",
          "name": "stdout",
          "text": [
            "Drive already mounted at /content/drive; to attempt to forcibly remount, call drive.mount(\"/content/drive\", force_remount=True).\n"
          ]
        }
      ],
      "source": [
        "import pandas as pd\n",
        "import os\n",
        "import numpy as np\n",
        "from google.colab import drive\n",
        "from google.colab import files\n",
        "drive.mount('/content/drive')\n",
        "from itertools import chain\n",
        "import datetime\n",
        "import matplotlib.pyplot as plt"
      ]
    },
    {
      "cell_type": "code",
      "source": [],
      "metadata": {
        "id": "wDkvYpVw7wvn"
      },
      "execution_count": null,
      "outputs": []
    },
    {
      "cell_type": "code",
      "source": [],
      "metadata": {
        "id": "Rdg38CUUBDLm"
      },
      "execution_count": null,
      "outputs": []
    },
    {
      "cell_type": "code",
      "source": [
        "%cd /content/drive/MyDrive/Github\n"
      ],
      "metadata": {
        "colab": {
          "base_uri": "https://localhost:8080/"
        },
        "id": "wuP5eBOGSkQA",
        "outputId": "9f16a138-8018-48ff-fbd2-44d60c53ed26"
      },
      "execution_count": 2,
      "outputs": [
        {
          "output_type": "stream",
          "name": "stdout",
          "text": [
            "/content/drive/MyDrive/Github\n"
          ]
        }
      ]
    },
    {
      "cell_type": "code",
      "source": [
        "source_dir=r'./Stress-Predict-Dataset-main/Raw_data/'"
      ],
      "metadata": {
        "id": "yqhQVChXuevI"
      },
      "execution_count": 3,
      "outputs": []
    },
    {
      "cell_type": "code",
      "source": [
        "samples_list=[]\n",
        "for samples in sorted(os.listdir(source_dir)):\n",
        "    if samples.startswith('.'):\n",
        "        continue\n",
        "    samples_list.append(samples) "
      ],
      "metadata": {
        "id": "FMqTZiBHv0WC"
      },
      "execution_count": null,
      "outputs": []
    },
    {
      "cell_type": "code",
      "source": [
        "samples_list\n"
      ],
      "metadata": {
        "colab": {
          "base_uri": "https://localhost:8080/"
        },
        "id": "dwXNGgnTweO1",
        "outputId": "f64bd1d7-ede7-4d30-dd6f-d2790c2b3baa"
      },
      "execution_count": null,
      "outputs": [
        {
          "output_type": "execute_result",
          "data": {
            "text/plain": [
              "['S01',\n",
              " 'S02',\n",
              " 'S03',\n",
              " 'S04',\n",
              " 'S05',\n",
              " 'S06',\n",
              " 'S07',\n",
              " 'S08',\n",
              " 'S09',\n",
              " 'S10',\n",
              " 'S11',\n",
              " 'S12',\n",
              " 'S13',\n",
              " 'S14',\n",
              " 'S15',\n",
              " 'S16',\n",
              " 'S17',\n",
              " 'S18',\n",
              " 'S19',\n",
              " 'S20',\n",
              " 'S21',\n",
              " 'S22',\n",
              " 'S23',\n",
              " 'S24',\n",
              " 'S25',\n",
              " 'S26',\n",
              " 'S27',\n",
              " 'S28',\n",
              " 'S29',\n",
              " 'S30',\n",
              " 'S31',\n",
              " 'S32',\n",
              " 'S33',\n",
              " 'S34',\n",
              " 'S35']"
            ]
          },
          "metadata": {},
          "execution_count": 5
        }
      ]
    },
    {
      "cell_type": "code",
      "source": [
        "tags=pd.read_csv(os.path.join(source_dir,\"S01\",\"tags_S01.csv\"), index_col=False)"
      ],
      "metadata": {
        "id": "uURPwEDqseX9"
      },
      "execution_count": null,
      "outputs": []
    },
    {
      "cell_type": "code",
      "source": [
        "index,d=tags"
      ],
      "metadata": {
        "colab": {
          "base_uri": "https://localhost:8080/",
          "height": 164
        },
        "id": "QHBiel4JoRHd",
        "outputId": "0a9f7c27-370d-4505-bdad-1a9b72f1653c"
      },
      "execution_count": null,
      "outputs": [
        {
          "output_type": "error",
          "ename": "ValueError",
          "evalue": "ignored",
          "traceback": [
            "\u001b[0;31m---------------------------------------------------------------------------\u001b[0m",
            "\u001b[0;31mValueError\u001b[0m                                Traceback (most recent call last)",
            "\u001b[0;32m<ipython-input-7-6a2a2490ff14>\u001b[0m in \u001b[0;36m<module>\u001b[0;34m\u001b[0m\n\u001b[0;32m----> 1\u001b[0;31m \u001b[0mindex\u001b[0m\u001b[0;34m,\u001b[0m\u001b[0md\u001b[0m\u001b[0;34m=\u001b[0m\u001b[0mtags\u001b[0m\u001b[0;34m\u001b[0m\u001b[0;34m\u001b[0m\u001b[0m\n\u001b[0m",
            "\u001b[0;31mValueError\u001b[0m: not enough values to unpack (expected 2, got 1)"
          ]
        }
      ]
    },
    {
      "cell_type": "code",
      "source": [
        "combined_HR=[]"
      ],
      "metadata": {
        "id": "2hiL1Ahta962"
      },
      "execution_count": null,
      "outputs": []
    },
    {
      "cell_type": "code",
      "source": [
        "combined_label=[]\n",
        "flag=1"
      ],
      "metadata": {
        "id": "qCOAQosLcDiz"
      },
      "execution_count": null,
      "outputs": []
    },
    {
      "cell_type": "code",
      "source": [
        "for sample in samples_list:\n",
        "  for read_data in os.listdir(source_dir+sample):\n",
        "    if read_data=='tags_'+sample+\".csv\":\n",
        "      label_df=pd.read_csv(os.path.join(source_dir,sample,read_data))\n",
        "      for row in label_df.itertuples():\n",
        "        index, label=row\n",
        "        label_dict={\"sample\":sample,\"Label\":int(label)}\n",
        "        combined_label.append(label_dict)"
      ],
      "metadata": {
        "id": "W8QLIBxkr3aO"
      },
      "execution_count": null,
      "outputs": []
    },
    {
      "cell_type": "code",
      "source": [
        "\n",
        "for sample in samples_list:\n",
        "    acc_df=pd.read_csv(os.path.join(source_dir,sample,\"ACC.csv\"),skiprows=[1] )\n",
        "    BVP_df=pd.read_csv(os.path.join(source_dir,sample,\"BVP.csv\"),skiprows=[1])\n",
        "    EDA_df=pd.read_csv(os.path.join(source_dir,sample,\"EDA.csv\"),skiprows=[1])\n",
        "    HR_df=pd.read_csv(os.path.join(source_dir,sample,\"HR.csv\"), skiprows=[1])\n",
        "    IBI_df=pd.read_csv(os.path.join(source_dir,sample,\"IBI.csv\"))\n",
        "    TEMP_df=pd.read_csv(os.path.join(source_dir,sample,\"TEMP.csv\"), skiprows=[1])\n",
        "    initial_utc_value=int(floor(float(list(acc_df.columns)[0])))\n",
        "    acc_df.rename(columns=({list(acc_df)[0]:\"acc_x\",list(acc_df)[1]:\"acc_y\",list(acc_df)[2]:\"acc_z\"}))\n",
        "\n",
        "\n",
        "    tags_df=pd.read_csv(os.path.join(source_dir,sample,\"tags_\"+sample+\".csv\"))\n",
        "    tags_df_int=tags_df.astype('int')\n",
        "    # for utc_stamps in tags_df_int.itertuples():\n",
        "    #   index, utc_stamps_value=utc_stamps\n",
        "    ts_raw=[]\n",
        "    logic=0\n",
        "    samples=[]\n",
        "    stress_logic=[]\n",
        "      # print(initial_utc_value)\n",
        "    r,c=acc_df.shape\n",
        "    t_ch=datetime.timedelta(seconds=0)\n",
        "    for ts in range(r):\n",
        "      converted_time=datetime.datetime.utcfromtimestamp(initial_utc_value)+t_ch\n",
        "      ts_raw.append(converted_time)\n",
        "      t_ch=datetime.timedelta(seconds=1/32)\n",
        "      initial_utc_value=converted_time.timestamp()\n",
        "      for utc_stamps in tags_df_int.itertuples():\n",
        "        index, utc_stamps_value=utc_stamps\n",
        "        diff=abs(datetime.datetime.utcfromtimestamp(utc_stamps_value)-converted_time)\n",
        "        if(int(diff.total_seconds())<=0):\n",
        "          logic=1-logic\n",
        "          break\n",
        "      stress_logic.append(logic)\n",
        "    # ts_dict={\"utc_time\":[ts_raw]}\n",
        "      samples.append(sample)   \n",
        "    combined_df=pd.concat([pd.DataFrame(samples),acc_df,EDA_df, HR_df, TEMP_df, pd.Series(ts_raw), pd.Series(stress_logic)], axis=1,ignore_index=True)\n",
        "    # final_df=pd.concat([combined_df2,combined_df], axis=0)\n",
        "    # combined_df2=combined_df.copy()\n",
        "    combined_df.rename(columns={0: 'samples', 1: 'acc_x', 2:'acc_y', 3:'acc_z',4:'EDA',5:'HR', 6:'temperature', 7:'Date and time', 8:'label'}, inplace=True)\n",
        "\n",
        "    combined_df.to_csv(source_dir+\"/\"+sample+\"/\"+sample+\".csv\")\n",
        "\n",
        "\n",
        "\n",
        "\n",
        "                             \n",
        "\n",
        "              \n",
        "             \n",
        "\n",
        "\n",
        "      "
      ],
      "metadata": {
        "id": "PF_ysEZJbiC3"
      },
      "execution_count": null,
      "outputs": []
    },
    {
      "cell_type": "code",
      "source": [
        "pre_sample_df=pd.DataFrame()\n",
        "for sample in samples_list:\n",
        "    sample_df=pd.read_csv(os.path.join(source_dir,sample,sample+\".csv\"))\n",
        "    final_df=pd.concat([pre_sample_df, sample_df], axis=0)\n",
        "    pre_sample_df=final_df.copy()\n",
        "final_df.to_csv(source_dir+\"Stress_dataset.csv\")    \n",
        "      \n",
        "\n"
      ],
      "metadata": {
        "id": "LksTNhVPbcTk"
      },
      "execution_count": null,
      "outputs": []
    },
    {
      "cell_type": "code",
      "source": [
        "df=pd.read_csv(os.path.join(source_dir, \"Stress_dataset.csv\"))"
      ],
      "metadata": {
        "id": "bnPB8nhf0Axn"
      },
      "execution_count": 4,
      "outputs": []
    },
    {
      "cell_type": "code",
      "source": [
        "df.info()"
      ],
      "metadata": {
        "id": "Z0UjtUUYc_Cj",
        "colab": {
          "base_uri": "https://localhost:8080/"
        },
        "outputId": "a8ee0ee6-f86f-4c4f-f843-f4c7d3c05ebe"
      },
      "execution_count": 5,
      "outputs": [
        {
          "output_type": "stream",
          "name": "stdout",
          "text": [
            "<class 'pandas.core.frame.DataFrame'>\n",
            "RangeIndex: 3713928 entries, 0 to 3713927\n",
            "Data columns (total 11 columns):\n",
            " #   Column         Dtype  \n",
            "---  ------         -----  \n",
            " 0   Unnamed: 0.1   int64  \n",
            " 1   Unnamed: 0     int64  \n",
            " 2   samples        object \n",
            " 3   acc_x          int64  \n",
            " 4   acc_y          int64  \n",
            " 5   acc_z          int64  \n",
            " 6   EDA            float64\n",
            " 7   HR             float64\n",
            " 8   temperature    float64\n",
            " 9   Date and time  object \n",
            " 10  label          int64  \n",
            "dtypes: float64(3), int64(6), object(2)\n",
            "memory usage: 311.7+ MB\n"
          ]
        }
      ]
    },
    {
      "cell_type": "markdown",
      "source": [],
      "metadata": {
        "id": "tIS6Dy4eAs5f"
      }
    },
    {
      "cell_type": "code",
      "source": [
        "df.isna().sum()"
      ],
      "metadata": {
        "id": "2PdX5lJNroKo",
        "colab": {
          "base_uri": "https://localhost:8080/"
        },
        "outputId": "07ddd3e0-5bbb-44ec-8c1e-7385fa17f9f3"
      },
      "execution_count": 6,
      "outputs": [
        {
          "output_type": "execute_result",
          "data": {
            "text/plain": [
              "Unnamed: 0.1           0\n",
              "Unnamed: 0             0\n",
              "samples                0\n",
              "acc_x                  0\n",
              "acc_y                  0\n",
              "acc_z                  0\n",
              "EDA              3249660\n",
              "HR               3598208\n",
              "temperature      3249728\n",
              "Date and time          0\n",
              "label                  0\n",
              "dtype: int64"
            ]
          },
          "metadata": {},
          "execution_count": 6
        }
      ]
    },
    {
      "cell_type": "code",
      "source": [
        "df=df.fillna(method='ffill')\n"
      ],
      "metadata": {
        "id": "rrW-RMp9BEs9"
      },
      "execution_count": 7,
      "outputs": []
    },
    {
      "cell_type": "code",
      "source": [
        "df.isna().sum()"
      ],
      "metadata": {
        "colab": {
          "base_uri": "https://localhost:8080/"
        },
        "id": "EwszPYTsqE6-",
        "outputId": "cc24aac8-cacf-4c22-e77a-c56823ba4450"
      },
      "execution_count": 8,
      "outputs": [
        {
          "output_type": "execute_result",
          "data": {
            "text/plain": [
              "Unnamed: 0.1     0\n",
              "Unnamed: 0       0\n",
              "samples          0\n",
              "acc_x            0\n",
              "acc_y            0\n",
              "acc_z            0\n",
              "EDA              0\n",
              "HR               0\n",
              "temperature      0\n",
              "Date and time    0\n",
              "label            0\n",
              "dtype: int64"
            ]
          },
          "metadata": {},
          "execution_count": 8
        }
      ]
    },
    {
      "cell_type": "code",
      "source": [
        "df=df.drop(columns=['Unnamed: 0.1'], axis=1)"
      ],
      "metadata": {
        "id": "SQmToHL9rF7W"
      },
      "execution_count": 9,
      "outputs": []
    },
    {
      "cell_type": "code",
      "source": [
        "df=df.drop(columns=['Unnamed: 0'], axis=1)"
      ],
      "metadata": {
        "id": "nu6m74bNrsuJ"
      },
      "execution_count": 10,
      "outputs": []
    },
    {
      "cell_type": "code",
      "source": [
        "df.head()"
      ],
      "metadata": {
        "colab": {
          "base_uri": "https://localhost:8080/",
          "height": 204
        },
        "id": "YTt514K1r6QV",
        "outputId": "59b03cc7-4fed-4e60-b26b-9e57b7d897ce"
      },
      "execution_count": 11,
      "outputs": [
        {
          "output_type": "execute_result",
          "data": {
            "text/plain": [
              "  samples  acc_x  acc_y  acc_z       EDA     HR  temperature  \\\n",
              "0     S01     -2     43     43  0.000000  83.00        28.39   \n",
              "1     S01     -2     44     46  0.112750  83.00        28.39   \n",
              "2     S01      2     44     47  0.166563  72.67        28.39   \n",
              "3     S01      3     43     44  0.167844  87.00        28.39   \n",
              "4     S01      1     43     45  0.167844  80.00        28.39   \n",
              "\n",
              "                Date and time  label  \n",
              "0  2022-02-07 09:27:41.000000      0  \n",
              "1  2022-02-07 09:27:41.031250      0  \n",
              "2  2022-02-07 09:27:41.062500      0  \n",
              "3  2022-02-07 09:27:41.093750      0  \n",
              "4  2022-02-07 09:27:41.125000      0  "
            ],
            "text/html": [
              "\n",
              "  <div id=\"df-88fa02ef-ae7e-46a8-a039-c62a1d2b27ea\">\n",
              "    <div class=\"colab-df-container\">\n",
              "      <div>\n",
              "<style scoped>\n",
              "    .dataframe tbody tr th:only-of-type {\n",
              "        vertical-align: middle;\n",
              "    }\n",
              "\n",
              "    .dataframe tbody tr th {\n",
              "        vertical-align: top;\n",
              "    }\n",
              "\n",
              "    .dataframe thead th {\n",
              "        text-align: right;\n",
              "    }\n",
              "</style>\n",
              "<table border=\"1\" class=\"dataframe\">\n",
              "  <thead>\n",
              "    <tr style=\"text-align: right;\">\n",
              "      <th></th>\n",
              "      <th>samples</th>\n",
              "      <th>acc_x</th>\n",
              "      <th>acc_y</th>\n",
              "      <th>acc_z</th>\n",
              "      <th>EDA</th>\n",
              "      <th>HR</th>\n",
              "      <th>temperature</th>\n",
              "      <th>Date and time</th>\n",
              "      <th>label</th>\n",
              "    </tr>\n",
              "  </thead>\n",
              "  <tbody>\n",
              "    <tr>\n",
              "      <th>0</th>\n",
              "      <td>S01</td>\n",
              "      <td>-2</td>\n",
              "      <td>43</td>\n",
              "      <td>43</td>\n",
              "      <td>0.000000</td>\n",
              "      <td>83.00</td>\n",
              "      <td>28.39</td>\n",
              "      <td>2022-02-07 09:27:41.000000</td>\n",
              "      <td>0</td>\n",
              "    </tr>\n",
              "    <tr>\n",
              "      <th>1</th>\n",
              "      <td>S01</td>\n",
              "      <td>-2</td>\n",
              "      <td>44</td>\n",
              "      <td>46</td>\n",
              "      <td>0.112750</td>\n",
              "      <td>83.00</td>\n",
              "      <td>28.39</td>\n",
              "      <td>2022-02-07 09:27:41.031250</td>\n",
              "      <td>0</td>\n",
              "    </tr>\n",
              "    <tr>\n",
              "      <th>2</th>\n",
              "      <td>S01</td>\n",
              "      <td>2</td>\n",
              "      <td>44</td>\n",
              "      <td>47</td>\n",
              "      <td>0.166563</td>\n",
              "      <td>72.67</td>\n",
              "      <td>28.39</td>\n",
              "      <td>2022-02-07 09:27:41.062500</td>\n",
              "      <td>0</td>\n",
              "    </tr>\n",
              "    <tr>\n",
              "      <th>3</th>\n",
              "      <td>S01</td>\n",
              "      <td>3</td>\n",
              "      <td>43</td>\n",
              "      <td>44</td>\n",
              "      <td>0.167844</td>\n",
              "      <td>87.00</td>\n",
              "      <td>28.39</td>\n",
              "      <td>2022-02-07 09:27:41.093750</td>\n",
              "      <td>0</td>\n",
              "    </tr>\n",
              "    <tr>\n",
              "      <th>4</th>\n",
              "      <td>S01</td>\n",
              "      <td>1</td>\n",
              "      <td>43</td>\n",
              "      <td>45</td>\n",
              "      <td>0.167844</td>\n",
              "      <td>80.00</td>\n",
              "      <td>28.39</td>\n",
              "      <td>2022-02-07 09:27:41.125000</td>\n",
              "      <td>0</td>\n",
              "    </tr>\n",
              "  </tbody>\n",
              "</table>\n",
              "</div>\n",
              "      <button class=\"colab-df-convert\" onclick=\"convertToInteractive('df-88fa02ef-ae7e-46a8-a039-c62a1d2b27ea')\"\n",
              "              title=\"Convert this dataframe to an interactive table.\"\n",
              "              style=\"display:none;\">\n",
              "        \n",
              "  <svg xmlns=\"http://www.w3.org/2000/svg\" height=\"24px\"viewBox=\"0 0 24 24\"\n",
              "       width=\"24px\">\n",
              "    <path d=\"M0 0h24v24H0V0z\" fill=\"none\"/>\n",
              "    <path d=\"M18.56 5.44l.94 2.06.94-2.06 2.06-.94-2.06-.94-.94-2.06-.94 2.06-2.06.94zm-11 1L8.5 8.5l.94-2.06 2.06-.94-2.06-.94L8.5 2.5l-.94 2.06-2.06.94zm10 10l.94 2.06.94-2.06 2.06-.94-2.06-.94-.94-2.06-.94 2.06-2.06.94z\"/><path d=\"M17.41 7.96l-1.37-1.37c-.4-.4-.92-.59-1.43-.59-.52 0-1.04.2-1.43.59L10.3 9.45l-7.72 7.72c-.78.78-.78 2.05 0 2.83L4 21.41c.39.39.9.59 1.41.59.51 0 1.02-.2 1.41-.59l7.78-7.78 2.81-2.81c.8-.78.8-2.07 0-2.86zM5.41 20L4 18.59l7.72-7.72 1.47 1.35L5.41 20z\"/>\n",
              "  </svg>\n",
              "      </button>\n",
              "      \n",
              "  <style>\n",
              "    .colab-df-container {\n",
              "      display:flex;\n",
              "      flex-wrap:wrap;\n",
              "      gap: 12px;\n",
              "    }\n",
              "\n",
              "    .colab-df-convert {\n",
              "      background-color: #E8F0FE;\n",
              "      border: none;\n",
              "      border-radius: 50%;\n",
              "      cursor: pointer;\n",
              "      display: none;\n",
              "      fill: #1967D2;\n",
              "      height: 32px;\n",
              "      padding: 0 0 0 0;\n",
              "      width: 32px;\n",
              "    }\n",
              "\n",
              "    .colab-df-convert:hover {\n",
              "      background-color: #E2EBFA;\n",
              "      box-shadow: 0px 1px 2px rgba(60, 64, 67, 0.3), 0px 1px 3px 1px rgba(60, 64, 67, 0.15);\n",
              "      fill: #174EA6;\n",
              "    }\n",
              "\n",
              "    [theme=dark] .colab-df-convert {\n",
              "      background-color: #3B4455;\n",
              "      fill: #D2E3FC;\n",
              "    }\n",
              "\n",
              "    [theme=dark] .colab-df-convert:hover {\n",
              "      background-color: #434B5C;\n",
              "      box-shadow: 0px 1px 3px 1px rgba(0, 0, 0, 0.15);\n",
              "      filter: drop-shadow(0px 1px 2px rgba(0, 0, 0, 0.3));\n",
              "      fill: #FFFFFF;\n",
              "    }\n",
              "  </style>\n",
              "\n",
              "      <script>\n",
              "        const buttonEl =\n",
              "          document.querySelector('#df-88fa02ef-ae7e-46a8-a039-c62a1d2b27ea button.colab-df-convert');\n",
              "        buttonEl.style.display =\n",
              "          google.colab.kernel.accessAllowed ? 'block' : 'none';\n",
              "\n",
              "        async function convertToInteractive(key) {\n",
              "          const element = document.querySelector('#df-88fa02ef-ae7e-46a8-a039-c62a1d2b27ea');\n",
              "          const dataTable =\n",
              "            await google.colab.kernel.invokeFunction('convertToInteractive',\n",
              "                                                     [key], {});\n",
              "          if (!dataTable) return;\n",
              "\n",
              "          const docLinkHtml = 'Like what you see? Visit the ' +\n",
              "            '<a target=\"_blank\" href=https://colab.research.google.com/notebooks/data_table.ipynb>data table notebook</a>'\n",
              "            + ' to learn more about interactive tables.';\n",
              "          element.innerHTML = '';\n",
              "          dataTable['output_type'] = 'display_data';\n",
              "          await google.colab.output.renderOutput(dataTable, element);\n",
              "          const docLink = document.createElement('div');\n",
              "          docLink.innerHTML = docLinkHtml;\n",
              "          element.appendChild(docLink);\n",
              "        }\n",
              "      </script>\n",
              "    </div>\n",
              "  </div>\n",
              "  "
            ]
          },
          "metadata": {},
          "execution_count": 11
        }
      ]
    },
    {
      "cell_type": "code",
      "source": [
        "df['Date and time']=pd.to_datetime(df['Date and time'])"
      ],
      "metadata": {
        "id": "1_tw5dgOs_Bv"
      },
      "execution_count": 12,
      "outputs": []
    },
    {
      "cell_type": "code",
      "source": [
        "\n",
        "df['hour'] = df['Date and time'].dt.hour\n",
        "df['day_of_week'] = df['Date and time'].dt.dayofweek\n",
        "df['month'] = df['Date and time'].dt.month\n",
        "df['year'] = df['Date and time'].dt.year"
      ],
      "metadata": {
        "id": "_6Kqyu7an0pa"
      },
      "execution_count": 13,
      "outputs": []
    },
    {
      "cell_type": "code",
      "source": [
        "df"
      ],
      "metadata": {
        "colab": {
          "base_uri": "https://localhost:8080/",
          "height": 419
        },
        "id": "6y4pNHYwoBlH",
        "outputId": "2a7f7e02-a53f-42e0-9a7d-29bd1b1647da"
      },
      "execution_count": 14,
      "outputs": [
        {
          "output_type": "execute_result",
          "data": {
            "text/plain": [
              "        samples  acc_x  acc_y  acc_z       EDA     HR  temperature  \\\n",
              "0           S01     -2     43     43  0.000000  83.00        28.39   \n",
              "1           S01     -2     44     46  0.112750  83.00        28.39   \n",
              "2           S01      2     44     47  0.166563  72.67        28.39   \n",
              "3           S01      3     43     44  0.167844  87.00        28.39   \n",
              "4           S01      1     43     45  0.167844  80.00        28.39   \n",
              "...         ...    ...    ...    ...       ...    ...          ...   \n",
              "3713923     S35    -17      1     62  0.228344  65.50        32.21   \n",
              "3713924     S35    -17      2     62  0.228344  65.50        32.21   \n",
              "3713925     S35    -17      1     61  0.228344  65.50        32.21   \n",
              "3713926     S35    -16      1     61  0.228344  65.50        32.21   \n",
              "3713927     S35    -17      1     61  0.228344  65.50        32.21   \n",
              "\n",
              "                     Date and time  label  hour  day_of_week  month  year  \n",
              "0       2022-02-07 09:27:41.000000      0     9            0      2  2022  \n",
              "1       2022-02-07 09:27:41.031250      0     9            0      2  2022  \n",
              "2       2022-02-07 09:27:41.062500      0     9            0      2  2022  \n",
              "3       2022-02-07 09:27:41.093750      0     9            0      2  2022  \n",
              "4       2022-02-07 09:27:41.125000      0     9            0      2  2022  \n",
              "...                            ...    ...   ...          ...    ...   ...  \n",
              "3713923 2022-03-09 16:10:46.781250      0    16            2      3  2022  \n",
              "3713924 2022-03-09 16:10:46.812500      0    16            2      3  2022  \n",
              "3713925 2022-03-09 16:10:46.843750      0    16            2      3  2022  \n",
              "3713926 2022-03-09 16:10:46.875000      0    16            2      3  2022  \n",
              "3713927 2022-03-09 16:10:46.906250      0    16            2      3  2022  \n",
              "\n",
              "[3713928 rows x 13 columns]"
            ],
            "text/html": [
              "\n",
              "  <div id=\"df-55bf5da1-66f9-4216-9934-91aa8406b605\">\n",
              "    <div class=\"colab-df-container\">\n",
              "      <div>\n",
              "<style scoped>\n",
              "    .dataframe tbody tr th:only-of-type {\n",
              "        vertical-align: middle;\n",
              "    }\n",
              "\n",
              "    .dataframe tbody tr th {\n",
              "        vertical-align: top;\n",
              "    }\n",
              "\n",
              "    .dataframe thead th {\n",
              "        text-align: right;\n",
              "    }\n",
              "</style>\n",
              "<table border=\"1\" class=\"dataframe\">\n",
              "  <thead>\n",
              "    <tr style=\"text-align: right;\">\n",
              "      <th></th>\n",
              "      <th>samples</th>\n",
              "      <th>acc_x</th>\n",
              "      <th>acc_y</th>\n",
              "      <th>acc_z</th>\n",
              "      <th>EDA</th>\n",
              "      <th>HR</th>\n",
              "      <th>temperature</th>\n",
              "      <th>Date and time</th>\n",
              "      <th>label</th>\n",
              "      <th>hour</th>\n",
              "      <th>day_of_week</th>\n",
              "      <th>month</th>\n",
              "      <th>year</th>\n",
              "    </tr>\n",
              "  </thead>\n",
              "  <tbody>\n",
              "    <tr>\n",
              "      <th>0</th>\n",
              "      <td>S01</td>\n",
              "      <td>-2</td>\n",
              "      <td>43</td>\n",
              "      <td>43</td>\n",
              "      <td>0.000000</td>\n",
              "      <td>83.00</td>\n",
              "      <td>28.39</td>\n",
              "      <td>2022-02-07 09:27:41.000000</td>\n",
              "      <td>0</td>\n",
              "      <td>9</td>\n",
              "      <td>0</td>\n",
              "      <td>2</td>\n",
              "      <td>2022</td>\n",
              "    </tr>\n",
              "    <tr>\n",
              "      <th>1</th>\n",
              "      <td>S01</td>\n",
              "      <td>-2</td>\n",
              "      <td>44</td>\n",
              "      <td>46</td>\n",
              "      <td>0.112750</td>\n",
              "      <td>83.00</td>\n",
              "      <td>28.39</td>\n",
              "      <td>2022-02-07 09:27:41.031250</td>\n",
              "      <td>0</td>\n",
              "      <td>9</td>\n",
              "      <td>0</td>\n",
              "      <td>2</td>\n",
              "      <td>2022</td>\n",
              "    </tr>\n",
              "    <tr>\n",
              "      <th>2</th>\n",
              "      <td>S01</td>\n",
              "      <td>2</td>\n",
              "      <td>44</td>\n",
              "      <td>47</td>\n",
              "      <td>0.166563</td>\n",
              "      <td>72.67</td>\n",
              "      <td>28.39</td>\n",
              "      <td>2022-02-07 09:27:41.062500</td>\n",
              "      <td>0</td>\n",
              "      <td>9</td>\n",
              "      <td>0</td>\n",
              "      <td>2</td>\n",
              "      <td>2022</td>\n",
              "    </tr>\n",
              "    <tr>\n",
              "      <th>3</th>\n",
              "      <td>S01</td>\n",
              "      <td>3</td>\n",
              "      <td>43</td>\n",
              "      <td>44</td>\n",
              "      <td>0.167844</td>\n",
              "      <td>87.00</td>\n",
              "      <td>28.39</td>\n",
              "      <td>2022-02-07 09:27:41.093750</td>\n",
              "      <td>0</td>\n",
              "      <td>9</td>\n",
              "      <td>0</td>\n",
              "      <td>2</td>\n",
              "      <td>2022</td>\n",
              "    </tr>\n",
              "    <tr>\n",
              "      <th>4</th>\n",
              "      <td>S01</td>\n",
              "      <td>1</td>\n",
              "      <td>43</td>\n",
              "      <td>45</td>\n",
              "      <td>0.167844</td>\n",
              "      <td>80.00</td>\n",
              "      <td>28.39</td>\n",
              "      <td>2022-02-07 09:27:41.125000</td>\n",
              "      <td>0</td>\n",
              "      <td>9</td>\n",
              "      <td>0</td>\n",
              "      <td>2</td>\n",
              "      <td>2022</td>\n",
              "    </tr>\n",
              "    <tr>\n",
              "      <th>...</th>\n",
              "      <td>...</td>\n",
              "      <td>...</td>\n",
              "      <td>...</td>\n",
              "      <td>...</td>\n",
              "      <td>...</td>\n",
              "      <td>...</td>\n",
              "      <td>...</td>\n",
              "      <td>...</td>\n",
              "      <td>...</td>\n",
              "      <td>...</td>\n",
              "      <td>...</td>\n",
              "      <td>...</td>\n",
              "      <td>...</td>\n",
              "    </tr>\n",
              "    <tr>\n",
              "      <th>3713923</th>\n",
              "      <td>S35</td>\n",
              "      <td>-17</td>\n",
              "      <td>1</td>\n",
              "      <td>62</td>\n",
              "      <td>0.228344</td>\n",
              "      <td>65.50</td>\n",
              "      <td>32.21</td>\n",
              "      <td>2022-03-09 16:10:46.781250</td>\n",
              "      <td>0</td>\n",
              "      <td>16</td>\n",
              "      <td>2</td>\n",
              "      <td>3</td>\n",
              "      <td>2022</td>\n",
              "    </tr>\n",
              "    <tr>\n",
              "      <th>3713924</th>\n",
              "      <td>S35</td>\n",
              "      <td>-17</td>\n",
              "      <td>2</td>\n",
              "      <td>62</td>\n",
              "      <td>0.228344</td>\n",
              "      <td>65.50</td>\n",
              "      <td>32.21</td>\n",
              "      <td>2022-03-09 16:10:46.812500</td>\n",
              "      <td>0</td>\n",
              "      <td>16</td>\n",
              "      <td>2</td>\n",
              "      <td>3</td>\n",
              "      <td>2022</td>\n",
              "    </tr>\n",
              "    <tr>\n",
              "      <th>3713925</th>\n",
              "      <td>S35</td>\n",
              "      <td>-17</td>\n",
              "      <td>1</td>\n",
              "      <td>61</td>\n",
              "      <td>0.228344</td>\n",
              "      <td>65.50</td>\n",
              "      <td>32.21</td>\n",
              "      <td>2022-03-09 16:10:46.843750</td>\n",
              "      <td>0</td>\n",
              "      <td>16</td>\n",
              "      <td>2</td>\n",
              "      <td>3</td>\n",
              "      <td>2022</td>\n",
              "    </tr>\n",
              "    <tr>\n",
              "      <th>3713926</th>\n",
              "      <td>S35</td>\n",
              "      <td>-16</td>\n",
              "      <td>1</td>\n",
              "      <td>61</td>\n",
              "      <td>0.228344</td>\n",
              "      <td>65.50</td>\n",
              "      <td>32.21</td>\n",
              "      <td>2022-03-09 16:10:46.875000</td>\n",
              "      <td>0</td>\n",
              "      <td>16</td>\n",
              "      <td>2</td>\n",
              "      <td>3</td>\n",
              "      <td>2022</td>\n",
              "    </tr>\n",
              "    <tr>\n",
              "      <th>3713927</th>\n",
              "      <td>S35</td>\n",
              "      <td>-17</td>\n",
              "      <td>1</td>\n",
              "      <td>61</td>\n",
              "      <td>0.228344</td>\n",
              "      <td>65.50</td>\n",
              "      <td>32.21</td>\n",
              "      <td>2022-03-09 16:10:46.906250</td>\n",
              "      <td>0</td>\n",
              "      <td>16</td>\n",
              "      <td>2</td>\n",
              "      <td>3</td>\n",
              "      <td>2022</td>\n",
              "    </tr>\n",
              "  </tbody>\n",
              "</table>\n",
              "<p>3713928 rows × 13 columns</p>\n",
              "</div>\n",
              "      <button class=\"colab-df-convert\" onclick=\"convertToInteractive('df-55bf5da1-66f9-4216-9934-91aa8406b605')\"\n",
              "              title=\"Convert this dataframe to an interactive table.\"\n",
              "              style=\"display:none;\">\n",
              "        \n",
              "  <svg xmlns=\"http://www.w3.org/2000/svg\" height=\"24px\"viewBox=\"0 0 24 24\"\n",
              "       width=\"24px\">\n",
              "    <path d=\"M0 0h24v24H0V0z\" fill=\"none\"/>\n",
              "    <path d=\"M18.56 5.44l.94 2.06.94-2.06 2.06-.94-2.06-.94-.94-2.06-.94 2.06-2.06.94zm-11 1L8.5 8.5l.94-2.06 2.06-.94-2.06-.94L8.5 2.5l-.94 2.06-2.06.94zm10 10l.94 2.06.94-2.06 2.06-.94-2.06-.94-.94-2.06-.94 2.06-2.06.94z\"/><path d=\"M17.41 7.96l-1.37-1.37c-.4-.4-.92-.59-1.43-.59-.52 0-1.04.2-1.43.59L10.3 9.45l-7.72 7.72c-.78.78-.78 2.05 0 2.83L4 21.41c.39.39.9.59 1.41.59.51 0 1.02-.2 1.41-.59l7.78-7.78 2.81-2.81c.8-.78.8-2.07 0-2.86zM5.41 20L4 18.59l7.72-7.72 1.47 1.35L5.41 20z\"/>\n",
              "  </svg>\n",
              "      </button>\n",
              "      \n",
              "  <style>\n",
              "    .colab-df-container {\n",
              "      display:flex;\n",
              "      flex-wrap:wrap;\n",
              "      gap: 12px;\n",
              "    }\n",
              "\n",
              "    .colab-df-convert {\n",
              "      background-color: #E8F0FE;\n",
              "      border: none;\n",
              "      border-radius: 50%;\n",
              "      cursor: pointer;\n",
              "      display: none;\n",
              "      fill: #1967D2;\n",
              "      height: 32px;\n",
              "      padding: 0 0 0 0;\n",
              "      width: 32px;\n",
              "    }\n",
              "\n",
              "    .colab-df-convert:hover {\n",
              "      background-color: #E2EBFA;\n",
              "      box-shadow: 0px 1px 2px rgba(60, 64, 67, 0.3), 0px 1px 3px 1px rgba(60, 64, 67, 0.15);\n",
              "      fill: #174EA6;\n",
              "    }\n",
              "\n",
              "    [theme=dark] .colab-df-convert {\n",
              "      background-color: #3B4455;\n",
              "      fill: #D2E3FC;\n",
              "    }\n",
              "\n",
              "    [theme=dark] .colab-df-convert:hover {\n",
              "      background-color: #434B5C;\n",
              "      box-shadow: 0px 1px 3px 1px rgba(0, 0, 0, 0.15);\n",
              "      filter: drop-shadow(0px 1px 2px rgba(0, 0, 0, 0.3));\n",
              "      fill: #FFFFFF;\n",
              "    }\n",
              "  </style>\n",
              "\n",
              "      <script>\n",
              "        const buttonEl =\n",
              "          document.querySelector('#df-55bf5da1-66f9-4216-9934-91aa8406b605 button.colab-df-convert');\n",
              "        buttonEl.style.display =\n",
              "          google.colab.kernel.accessAllowed ? 'block' : 'none';\n",
              "\n",
              "        async function convertToInteractive(key) {\n",
              "          const element = document.querySelector('#df-55bf5da1-66f9-4216-9934-91aa8406b605');\n",
              "          const dataTable =\n",
              "            await google.colab.kernel.invokeFunction('convertToInteractive',\n",
              "                                                     [key], {});\n",
              "          if (!dataTable) return;\n",
              "\n",
              "          const docLinkHtml = 'Like what you see? Visit the ' +\n",
              "            '<a target=\"_blank\" href=https://colab.research.google.com/notebooks/data_table.ipynb>data table notebook</a>'\n",
              "            + ' to learn more about interactive tables.';\n",
              "          element.innerHTML = '';\n",
              "          dataTable['output_type'] = 'display_data';\n",
              "          await google.colab.output.renderOutput(dataTable, element);\n",
              "          const docLink = document.createElement('div');\n",
              "          docLink.innerHTML = docLinkHtml;\n",
              "          element.appendChild(docLink);\n",
              "        }\n",
              "      </script>\n",
              "    </div>\n",
              "  </div>\n",
              "  "
            ]
          },
          "metadata": {},
          "execution_count": 14
        }
      ]
    },
    {
      "cell_type": "code",
      "source": [
        "df = pd.get_dummies(df, columns=['day_of_week', 'month'])\n"
      ],
      "metadata": {
        "id": "lOT9sxTmotQs"
      },
      "execution_count": 15,
      "outputs": []
    },
    {
      "cell_type": "code",
      "source": [],
      "metadata": {
        "id": "XR8y6YlhozmT"
      },
      "execution_count": null,
      "outputs": []
    },
    {
      "cell_type": "code",
      "source": [
        "df"
      ],
      "metadata": {
        "colab": {
          "base_uri": "https://localhost:8080/",
          "height": 670
        },
        "id": "0joe_JMepEf1",
        "outputId": "b184115a-98c1-47fa-ddc2-ade5e91618cb"
      },
      "execution_count": 16,
      "outputs": [
        {
          "output_type": "execute_result",
          "data": {
            "text/plain": [
              "        samples  acc_x  acc_y  acc_z       EDA     HR  temperature  \\\n",
              "0           S01     -2     43     43  0.000000  83.00        28.39   \n",
              "1           S01     -2     44     46  0.112750  83.00        28.39   \n",
              "2           S01      2     44     47  0.166563  72.67        28.39   \n",
              "3           S01      3     43     44  0.167844  87.00        28.39   \n",
              "4           S01      1     43     45  0.167844  80.00        28.39   \n",
              "...         ...    ...    ...    ...       ...    ...          ...   \n",
              "3713923     S35    -17      1     62  0.228344  65.50        32.21   \n",
              "3713924     S35    -17      2     62  0.228344  65.50        32.21   \n",
              "3713925     S35    -17      1     61  0.228344  65.50        32.21   \n",
              "3713926     S35    -16      1     61  0.228344  65.50        32.21   \n",
              "3713927     S35    -17      1     61  0.228344  65.50        32.21   \n",
              "\n",
              "                     Date and time  label  hour  year  day_of_week_0  \\\n",
              "0       2022-02-07 09:27:41.000000      0     9  2022              1   \n",
              "1       2022-02-07 09:27:41.031250      0     9  2022              1   \n",
              "2       2022-02-07 09:27:41.062500      0     9  2022              1   \n",
              "3       2022-02-07 09:27:41.093750      0     9  2022              1   \n",
              "4       2022-02-07 09:27:41.125000      0     9  2022              1   \n",
              "...                            ...    ...   ...   ...            ...   \n",
              "3713923 2022-03-09 16:10:46.781250      0    16  2022              0   \n",
              "3713924 2022-03-09 16:10:46.812500      0    16  2022              0   \n",
              "3713925 2022-03-09 16:10:46.843750      0    16  2022              0   \n",
              "3713926 2022-03-09 16:10:46.875000      0    16  2022              0   \n",
              "3713927 2022-03-09 16:10:46.906250      0    16  2022              0   \n",
              "\n",
              "         day_of_week_2  month_2  month_3  \n",
              "0                    0        1        0  \n",
              "1                    0        1        0  \n",
              "2                    0        1        0  \n",
              "3                    0        1        0  \n",
              "4                    0        1        0  \n",
              "...                ...      ...      ...  \n",
              "3713923              1        0        1  \n",
              "3713924              1        0        1  \n",
              "3713925              1        0        1  \n",
              "3713926              1        0        1  \n",
              "3713927              1        0        1  \n",
              "\n",
              "[3713928 rows x 15 columns]"
            ],
            "text/html": [
              "\n",
              "  <div id=\"df-b7fbc4d7-57ea-4246-9b30-f8258782afb4\">\n",
              "    <div class=\"colab-df-container\">\n",
              "      <div>\n",
              "<style scoped>\n",
              "    .dataframe tbody tr th:only-of-type {\n",
              "        vertical-align: middle;\n",
              "    }\n",
              "\n",
              "    .dataframe tbody tr th {\n",
              "        vertical-align: top;\n",
              "    }\n",
              "\n",
              "    .dataframe thead th {\n",
              "        text-align: right;\n",
              "    }\n",
              "</style>\n",
              "<table border=\"1\" class=\"dataframe\">\n",
              "  <thead>\n",
              "    <tr style=\"text-align: right;\">\n",
              "      <th></th>\n",
              "      <th>samples</th>\n",
              "      <th>acc_x</th>\n",
              "      <th>acc_y</th>\n",
              "      <th>acc_z</th>\n",
              "      <th>EDA</th>\n",
              "      <th>HR</th>\n",
              "      <th>temperature</th>\n",
              "      <th>Date and time</th>\n",
              "      <th>label</th>\n",
              "      <th>hour</th>\n",
              "      <th>year</th>\n",
              "      <th>day_of_week_0</th>\n",
              "      <th>day_of_week_2</th>\n",
              "      <th>month_2</th>\n",
              "      <th>month_3</th>\n",
              "    </tr>\n",
              "  </thead>\n",
              "  <tbody>\n",
              "    <tr>\n",
              "      <th>0</th>\n",
              "      <td>S01</td>\n",
              "      <td>-2</td>\n",
              "      <td>43</td>\n",
              "      <td>43</td>\n",
              "      <td>0.000000</td>\n",
              "      <td>83.00</td>\n",
              "      <td>28.39</td>\n",
              "      <td>2022-02-07 09:27:41.000000</td>\n",
              "      <td>0</td>\n",
              "      <td>9</td>\n",
              "      <td>2022</td>\n",
              "      <td>1</td>\n",
              "      <td>0</td>\n",
              "      <td>1</td>\n",
              "      <td>0</td>\n",
              "    </tr>\n",
              "    <tr>\n",
              "      <th>1</th>\n",
              "      <td>S01</td>\n",
              "      <td>-2</td>\n",
              "      <td>44</td>\n",
              "      <td>46</td>\n",
              "      <td>0.112750</td>\n",
              "      <td>83.00</td>\n",
              "      <td>28.39</td>\n",
              "      <td>2022-02-07 09:27:41.031250</td>\n",
              "      <td>0</td>\n",
              "      <td>9</td>\n",
              "      <td>2022</td>\n",
              "      <td>1</td>\n",
              "      <td>0</td>\n",
              "      <td>1</td>\n",
              "      <td>0</td>\n",
              "    </tr>\n",
              "    <tr>\n",
              "      <th>2</th>\n",
              "      <td>S01</td>\n",
              "      <td>2</td>\n",
              "      <td>44</td>\n",
              "      <td>47</td>\n",
              "      <td>0.166563</td>\n",
              "      <td>72.67</td>\n",
              "      <td>28.39</td>\n",
              "      <td>2022-02-07 09:27:41.062500</td>\n",
              "      <td>0</td>\n",
              "      <td>9</td>\n",
              "      <td>2022</td>\n",
              "      <td>1</td>\n",
              "      <td>0</td>\n",
              "      <td>1</td>\n",
              "      <td>0</td>\n",
              "    </tr>\n",
              "    <tr>\n",
              "      <th>3</th>\n",
              "      <td>S01</td>\n",
              "      <td>3</td>\n",
              "      <td>43</td>\n",
              "      <td>44</td>\n",
              "      <td>0.167844</td>\n",
              "      <td>87.00</td>\n",
              "      <td>28.39</td>\n",
              "      <td>2022-02-07 09:27:41.093750</td>\n",
              "      <td>0</td>\n",
              "      <td>9</td>\n",
              "      <td>2022</td>\n",
              "      <td>1</td>\n",
              "      <td>0</td>\n",
              "      <td>1</td>\n",
              "      <td>0</td>\n",
              "    </tr>\n",
              "    <tr>\n",
              "      <th>4</th>\n",
              "      <td>S01</td>\n",
              "      <td>1</td>\n",
              "      <td>43</td>\n",
              "      <td>45</td>\n",
              "      <td>0.167844</td>\n",
              "      <td>80.00</td>\n",
              "      <td>28.39</td>\n",
              "      <td>2022-02-07 09:27:41.125000</td>\n",
              "      <td>0</td>\n",
              "      <td>9</td>\n",
              "      <td>2022</td>\n",
              "      <td>1</td>\n",
              "      <td>0</td>\n",
              "      <td>1</td>\n",
              "      <td>0</td>\n",
              "    </tr>\n",
              "    <tr>\n",
              "      <th>...</th>\n",
              "      <td>...</td>\n",
              "      <td>...</td>\n",
              "      <td>...</td>\n",
              "      <td>...</td>\n",
              "      <td>...</td>\n",
              "      <td>...</td>\n",
              "      <td>...</td>\n",
              "      <td>...</td>\n",
              "      <td>...</td>\n",
              "      <td>...</td>\n",
              "      <td>...</td>\n",
              "      <td>...</td>\n",
              "      <td>...</td>\n",
              "      <td>...</td>\n",
              "      <td>...</td>\n",
              "    </tr>\n",
              "    <tr>\n",
              "      <th>3713923</th>\n",
              "      <td>S35</td>\n",
              "      <td>-17</td>\n",
              "      <td>1</td>\n",
              "      <td>62</td>\n",
              "      <td>0.228344</td>\n",
              "      <td>65.50</td>\n",
              "      <td>32.21</td>\n",
              "      <td>2022-03-09 16:10:46.781250</td>\n",
              "      <td>0</td>\n",
              "      <td>16</td>\n",
              "      <td>2022</td>\n",
              "      <td>0</td>\n",
              "      <td>1</td>\n",
              "      <td>0</td>\n",
              "      <td>1</td>\n",
              "    </tr>\n",
              "    <tr>\n",
              "      <th>3713924</th>\n",
              "      <td>S35</td>\n",
              "      <td>-17</td>\n",
              "      <td>2</td>\n",
              "      <td>62</td>\n",
              "      <td>0.228344</td>\n",
              "      <td>65.50</td>\n",
              "      <td>32.21</td>\n",
              "      <td>2022-03-09 16:10:46.812500</td>\n",
              "      <td>0</td>\n",
              "      <td>16</td>\n",
              "      <td>2022</td>\n",
              "      <td>0</td>\n",
              "      <td>1</td>\n",
              "      <td>0</td>\n",
              "      <td>1</td>\n",
              "    </tr>\n",
              "    <tr>\n",
              "      <th>3713925</th>\n",
              "      <td>S35</td>\n",
              "      <td>-17</td>\n",
              "      <td>1</td>\n",
              "      <td>61</td>\n",
              "      <td>0.228344</td>\n",
              "      <td>65.50</td>\n",
              "      <td>32.21</td>\n",
              "      <td>2022-03-09 16:10:46.843750</td>\n",
              "      <td>0</td>\n",
              "      <td>16</td>\n",
              "      <td>2022</td>\n",
              "      <td>0</td>\n",
              "      <td>1</td>\n",
              "      <td>0</td>\n",
              "      <td>1</td>\n",
              "    </tr>\n",
              "    <tr>\n",
              "      <th>3713926</th>\n",
              "      <td>S35</td>\n",
              "      <td>-16</td>\n",
              "      <td>1</td>\n",
              "      <td>61</td>\n",
              "      <td>0.228344</td>\n",
              "      <td>65.50</td>\n",
              "      <td>32.21</td>\n",
              "      <td>2022-03-09 16:10:46.875000</td>\n",
              "      <td>0</td>\n",
              "      <td>16</td>\n",
              "      <td>2022</td>\n",
              "      <td>0</td>\n",
              "      <td>1</td>\n",
              "      <td>0</td>\n",
              "      <td>1</td>\n",
              "    </tr>\n",
              "    <tr>\n",
              "      <th>3713927</th>\n",
              "      <td>S35</td>\n",
              "      <td>-17</td>\n",
              "      <td>1</td>\n",
              "      <td>61</td>\n",
              "      <td>0.228344</td>\n",
              "      <td>65.50</td>\n",
              "      <td>32.21</td>\n",
              "      <td>2022-03-09 16:10:46.906250</td>\n",
              "      <td>0</td>\n",
              "      <td>16</td>\n",
              "      <td>2022</td>\n",
              "      <td>0</td>\n",
              "      <td>1</td>\n",
              "      <td>0</td>\n",
              "      <td>1</td>\n",
              "    </tr>\n",
              "  </tbody>\n",
              "</table>\n",
              "<p>3713928 rows × 15 columns</p>\n",
              "</div>\n",
              "      <button class=\"colab-df-convert\" onclick=\"convertToInteractive('df-b7fbc4d7-57ea-4246-9b30-f8258782afb4')\"\n",
              "              title=\"Convert this dataframe to an interactive table.\"\n",
              "              style=\"display:none;\">\n",
              "        \n",
              "  <svg xmlns=\"http://www.w3.org/2000/svg\" height=\"24px\"viewBox=\"0 0 24 24\"\n",
              "       width=\"24px\">\n",
              "    <path d=\"M0 0h24v24H0V0z\" fill=\"none\"/>\n",
              "    <path d=\"M18.56 5.44l.94 2.06.94-2.06 2.06-.94-2.06-.94-.94-2.06-.94 2.06-2.06.94zm-11 1L8.5 8.5l.94-2.06 2.06-.94-2.06-.94L8.5 2.5l-.94 2.06-2.06.94zm10 10l.94 2.06.94-2.06 2.06-.94-2.06-.94-.94-2.06-.94 2.06-2.06.94z\"/><path d=\"M17.41 7.96l-1.37-1.37c-.4-.4-.92-.59-1.43-.59-.52 0-1.04.2-1.43.59L10.3 9.45l-7.72 7.72c-.78.78-.78 2.05 0 2.83L4 21.41c.39.39.9.59 1.41.59.51 0 1.02-.2 1.41-.59l7.78-7.78 2.81-2.81c.8-.78.8-2.07 0-2.86zM5.41 20L4 18.59l7.72-7.72 1.47 1.35L5.41 20z\"/>\n",
              "  </svg>\n",
              "      </button>\n",
              "      \n",
              "  <style>\n",
              "    .colab-df-container {\n",
              "      display:flex;\n",
              "      flex-wrap:wrap;\n",
              "      gap: 12px;\n",
              "    }\n",
              "\n",
              "    .colab-df-convert {\n",
              "      background-color: #E8F0FE;\n",
              "      border: none;\n",
              "      border-radius: 50%;\n",
              "      cursor: pointer;\n",
              "      display: none;\n",
              "      fill: #1967D2;\n",
              "      height: 32px;\n",
              "      padding: 0 0 0 0;\n",
              "      width: 32px;\n",
              "    }\n",
              "\n",
              "    .colab-df-convert:hover {\n",
              "      background-color: #E2EBFA;\n",
              "      box-shadow: 0px 1px 2px rgba(60, 64, 67, 0.3), 0px 1px 3px 1px rgba(60, 64, 67, 0.15);\n",
              "      fill: #174EA6;\n",
              "    }\n",
              "\n",
              "    [theme=dark] .colab-df-convert {\n",
              "      background-color: #3B4455;\n",
              "      fill: #D2E3FC;\n",
              "    }\n",
              "\n",
              "    [theme=dark] .colab-df-convert:hover {\n",
              "      background-color: #434B5C;\n",
              "      box-shadow: 0px 1px 3px 1px rgba(0, 0, 0, 0.15);\n",
              "      filter: drop-shadow(0px 1px 2px rgba(0, 0, 0, 0.3));\n",
              "      fill: #FFFFFF;\n",
              "    }\n",
              "  </style>\n",
              "\n",
              "      <script>\n",
              "        const buttonEl =\n",
              "          document.querySelector('#df-b7fbc4d7-57ea-4246-9b30-f8258782afb4 button.colab-df-convert');\n",
              "        buttonEl.style.display =\n",
              "          google.colab.kernel.accessAllowed ? 'block' : 'none';\n",
              "\n",
              "        async function convertToInteractive(key) {\n",
              "          const element = document.querySelector('#df-b7fbc4d7-57ea-4246-9b30-f8258782afb4');\n",
              "          const dataTable =\n",
              "            await google.colab.kernel.invokeFunction('convertToInteractive',\n",
              "                                                     [key], {});\n",
              "          if (!dataTable) return;\n",
              "\n",
              "          const docLinkHtml = 'Like what you see? Visit the ' +\n",
              "            '<a target=\"_blank\" href=https://colab.research.google.com/notebooks/data_table.ipynb>data table notebook</a>'\n",
              "            + ' to learn more about interactive tables.';\n",
              "          element.innerHTML = '';\n",
              "          dataTable['output_type'] = 'display_data';\n",
              "          await google.colab.output.renderOutput(dataTable, element);\n",
              "          const docLink = document.createElement('div');\n",
              "          docLink.innerHTML = docLinkHtml;\n",
              "          element.appendChild(docLink);\n",
              "        }\n",
              "      </script>\n",
              "    </div>\n",
              "  </div>\n",
              "  "
            ]
          },
          "metadata": {},
          "execution_count": 16
        }
      ]
    },
    {
      "cell_type": "code",
      "source": [
        "df=df.drop(columns=['Date and time','samples'])"
      ],
      "metadata": {
        "id": "06-KD3GYphG0"
      },
      "execution_count": 17,
      "outputs": []
    },
    {
      "cell_type": "code",
      "source": [
        "df.describe()"
      ],
      "metadata": {
        "colab": {
          "base_uri": "https://localhost:8080/",
          "height": 361
        },
        "id": "4E3Efa7IAstR",
        "outputId": "bb753763-deb0-4b6d-8889-a7b0dfc6e542"
      },
      "execution_count": 18,
      "outputs": [
        {
          "output_type": "execute_result",
          "data": {
            "text/plain": [
              "              acc_x         acc_y         acc_z           EDA            HR  \\\n",
              "count  3.713928e+06  3.713928e+06  3.713928e+06  3.713928e+06  3.713928e+06   \n",
              "mean  -3.411041e+01 -1.266632e+00  3.756086e+01  5.797673e-01  7.669192e+01   \n",
              "std    2.182198e+01  2.087270e+01  2.594190e+01  7.564431e-01  1.329531e+01   \n",
              "min   -1.280000e+02 -1.280000e+02 -1.280000e+02  0.000000e+00  4.900000e+01   \n",
              "25%   -5.200000e+01 -1.200000e+01  2.300000e+01  1.537600e-01  6.575000e+01   \n",
              "50%   -3.400000e+01 -2.000000e+00  4.700000e+01  3.011310e-01  7.402000e+01   \n",
              "75%   -2.100000e+01  8.000000e+00  5.700000e+01  7.333020e-01  8.582000e+01   \n",
              "max    1.270000e+02  1.270000e+02  1.270000e+02  1.100507e+01  1.467800e+02   \n",
              "\n",
              "        temperature         label          hour       year  day_of_week_0  \\\n",
              "count  3.713928e+06  3.713928e+06  3.713928e+06  3713928.0   3.713928e+06   \n",
              "mean   3.044306e+01  2.941376e-01  1.239798e+01     2022.0   9.110160e-01   \n",
              "std    2.623050e+00  4.556542e-01  2.156371e+00        0.0   2.847206e-01   \n",
              "min    2.113000e+01  0.000000e+00  9.000000e+00     2022.0   0.000000e+00   \n",
              "25%    2.893000e+01  0.000000e+00  1.100000e+01     2022.0   1.000000e+00   \n",
              "50%    3.061000e+01  0.000000e+00  1.200000e+01     2022.0   1.000000e+00   \n",
              "75%    3.197000e+01  1.000000e+00  1.500000e+01     2022.0   1.000000e+00   \n",
              "max    3.639000e+01  1.000000e+00  1.600000e+01     2022.0   1.000000e+00   \n",
              "\n",
              "       day_of_week_2       month_2       month_3  \n",
              "count   3.713928e+06  3.713928e+06  3.713928e+06  \n",
              "mean    8.898395e-02  7.401468e-01  2.598532e-01  \n",
              "std     2.847206e-01  4.385539e-01  4.385539e-01  \n",
              "min     0.000000e+00  0.000000e+00  0.000000e+00  \n",
              "25%     0.000000e+00  0.000000e+00  0.000000e+00  \n",
              "50%     0.000000e+00  1.000000e+00  0.000000e+00  \n",
              "75%     0.000000e+00  1.000000e+00  1.000000e+00  \n",
              "max     1.000000e+00  1.000000e+00  1.000000e+00  "
            ],
            "text/html": [
              "\n",
              "  <div id=\"df-9fa464cc-7a72-49af-acba-9e261278281d\">\n",
              "    <div class=\"colab-df-container\">\n",
              "      <div>\n",
              "<style scoped>\n",
              "    .dataframe tbody tr th:only-of-type {\n",
              "        vertical-align: middle;\n",
              "    }\n",
              "\n",
              "    .dataframe tbody tr th {\n",
              "        vertical-align: top;\n",
              "    }\n",
              "\n",
              "    .dataframe thead th {\n",
              "        text-align: right;\n",
              "    }\n",
              "</style>\n",
              "<table border=\"1\" class=\"dataframe\">\n",
              "  <thead>\n",
              "    <tr style=\"text-align: right;\">\n",
              "      <th></th>\n",
              "      <th>acc_x</th>\n",
              "      <th>acc_y</th>\n",
              "      <th>acc_z</th>\n",
              "      <th>EDA</th>\n",
              "      <th>HR</th>\n",
              "      <th>temperature</th>\n",
              "      <th>label</th>\n",
              "      <th>hour</th>\n",
              "      <th>year</th>\n",
              "      <th>day_of_week_0</th>\n",
              "      <th>day_of_week_2</th>\n",
              "      <th>month_2</th>\n",
              "      <th>month_3</th>\n",
              "    </tr>\n",
              "  </thead>\n",
              "  <tbody>\n",
              "    <tr>\n",
              "      <th>count</th>\n",
              "      <td>3.713928e+06</td>\n",
              "      <td>3.713928e+06</td>\n",
              "      <td>3.713928e+06</td>\n",
              "      <td>3.713928e+06</td>\n",
              "      <td>3.713928e+06</td>\n",
              "      <td>3.713928e+06</td>\n",
              "      <td>3.713928e+06</td>\n",
              "      <td>3.713928e+06</td>\n",
              "      <td>3713928.0</td>\n",
              "      <td>3.713928e+06</td>\n",
              "      <td>3.713928e+06</td>\n",
              "      <td>3.713928e+06</td>\n",
              "      <td>3.713928e+06</td>\n",
              "    </tr>\n",
              "    <tr>\n",
              "      <th>mean</th>\n",
              "      <td>-3.411041e+01</td>\n",
              "      <td>-1.266632e+00</td>\n",
              "      <td>3.756086e+01</td>\n",
              "      <td>5.797673e-01</td>\n",
              "      <td>7.669192e+01</td>\n",
              "      <td>3.044306e+01</td>\n",
              "      <td>2.941376e-01</td>\n",
              "      <td>1.239798e+01</td>\n",
              "      <td>2022.0</td>\n",
              "      <td>9.110160e-01</td>\n",
              "      <td>8.898395e-02</td>\n",
              "      <td>7.401468e-01</td>\n",
              "      <td>2.598532e-01</td>\n",
              "    </tr>\n",
              "    <tr>\n",
              "      <th>std</th>\n",
              "      <td>2.182198e+01</td>\n",
              "      <td>2.087270e+01</td>\n",
              "      <td>2.594190e+01</td>\n",
              "      <td>7.564431e-01</td>\n",
              "      <td>1.329531e+01</td>\n",
              "      <td>2.623050e+00</td>\n",
              "      <td>4.556542e-01</td>\n",
              "      <td>2.156371e+00</td>\n",
              "      <td>0.0</td>\n",
              "      <td>2.847206e-01</td>\n",
              "      <td>2.847206e-01</td>\n",
              "      <td>4.385539e-01</td>\n",
              "      <td>4.385539e-01</td>\n",
              "    </tr>\n",
              "    <tr>\n",
              "      <th>min</th>\n",
              "      <td>-1.280000e+02</td>\n",
              "      <td>-1.280000e+02</td>\n",
              "      <td>-1.280000e+02</td>\n",
              "      <td>0.000000e+00</td>\n",
              "      <td>4.900000e+01</td>\n",
              "      <td>2.113000e+01</td>\n",
              "      <td>0.000000e+00</td>\n",
              "      <td>9.000000e+00</td>\n",
              "      <td>2022.0</td>\n",
              "      <td>0.000000e+00</td>\n",
              "      <td>0.000000e+00</td>\n",
              "      <td>0.000000e+00</td>\n",
              "      <td>0.000000e+00</td>\n",
              "    </tr>\n",
              "    <tr>\n",
              "      <th>25%</th>\n",
              "      <td>-5.200000e+01</td>\n",
              "      <td>-1.200000e+01</td>\n",
              "      <td>2.300000e+01</td>\n",
              "      <td>1.537600e-01</td>\n",
              "      <td>6.575000e+01</td>\n",
              "      <td>2.893000e+01</td>\n",
              "      <td>0.000000e+00</td>\n",
              "      <td>1.100000e+01</td>\n",
              "      <td>2022.0</td>\n",
              "      <td>1.000000e+00</td>\n",
              "      <td>0.000000e+00</td>\n",
              "      <td>0.000000e+00</td>\n",
              "      <td>0.000000e+00</td>\n",
              "    </tr>\n",
              "    <tr>\n",
              "      <th>50%</th>\n",
              "      <td>-3.400000e+01</td>\n",
              "      <td>-2.000000e+00</td>\n",
              "      <td>4.700000e+01</td>\n",
              "      <td>3.011310e-01</td>\n",
              "      <td>7.402000e+01</td>\n",
              "      <td>3.061000e+01</td>\n",
              "      <td>0.000000e+00</td>\n",
              "      <td>1.200000e+01</td>\n",
              "      <td>2022.0</td>\n",
              "      <td>1.000000e+00</td>\n",
              "      <td>0.000000e+00</td>\n",
              "      <td>1.000000e+00</td>\n",
              "      <td>0.000000e+00</td>\n",
              "    </tr>\n",
              "    <tr>\n",
              "      <th>75%</th>\n",
              "      <td>-2.100000e+01</td>\n",
              "      <td>8.000000e+00</td>\n",
              "      <td>5.700000e+01</td>\n",
              "      <td>7.333020e-01</td>\n",
              "      <td>8.582000e+01</td>\n",
              "      <td>3.197000e+01</td>\n",
              "      <td>1.000000e+00</td>\n",
              "      <td>1.500000e+01</td>\n",
              "      <td>2022.0</td>\n",
              "      <td>1.000000e+00</td>\n",
              "      <td>0.000000e+00</td>\n",
              "      <td>1.000000e+00</td>\n",
              "      <td>1.000000e+00</td>\n",
              "    </tr>\n",
              "    <tr>\n",
              "      <th>max</th>\n",
              "      <td>1.270000e+02</td>\n",
              "      <td>1.270000e+02</td>\n",
              "      <td>1.270000e+02</td>\n",
              "      <td>1.100507e+01</td>\n",
              "      <td>1.467800e+02</td>\n",
              "      <td>3.639000e+01</td>\n",
              "      <td>1.000000e+00</td>\n",
              "      <td>1.600000e+01</td>\n",
              "      <td>2022.0</td>\n",
              "      <td>1.000000e+00</td>\n",
              "      <td>1.000000e+00</td>\n",
              "      <td>1.000000e+00</td>\n",
              "      <td>1.000000e+00</td>\n",
              "    </tr>\n",
              "  </tbody>\n",
              "</table>\n",
              "</div>\n",
              "      <button class=\"colab-df-convert\" onclick=\"convertToInteractive('df-9fa464cc-7a72-49af-acba-9e261278281d')\"\n",
              "              title=\"Convert this dataframe to an interactive table.\"\n",
              "              style=\"display:none;\">\n",
              "        \n",
              "  <svg xmlns=\"http://www.w3.org/2000/svg\" height=\"24px\"viewBox=\"0 0 24 24\"\n",
              "       width=\"24px\">\n",
              "    <path d=\"M0 0h24v24H0V0z\" fill=\"none\"/>\n",
              "    <path d=\"M18.56 5.44l.94 2.06.94-2.06 2.06-.94-2.06-.94-.94-2.06-.94 2.06-2.06.94zm-11 1L8.5 8.5l.94-2.06 2.06-.94-2.06-.94L8.5 2.5l-.94 2.06-2.06.94zm10 10l.94 2.06.94-2.06 2.06-.94-2.06-.94-.94-2.06-.94 2.06-2.06.94z\"/><path d=\"M17.41 7.96l-1.37-1.37c-.4-.4-.92-.59-1.43-.59-.52 0-1.04.2-1.43.59L10.3 9.45l-7.72 7.72c-.78.78-.78 2.05 0 2.83L4 21.41c.39.39.9.59 1.41.59.51 0 1.02-.2 1.41-.59l7.78-7.78 2.81-2.81c.8-.78.8-2.07 0-2.86zM5.41 20L4 18.59l7.72-7.72 1.47 1.35L5.41 20z\"/>\n",
              "  </svg>\n",
              "      </button>\n",
              "      \n",
              "  <style>\n",
              "    .colab-df-container {\n",
              "      display:flex;\n",
              "      flex-wrap:wrap;\n",
              "      gap: 12px;\n",
              "    }\n",
              "\n",
              "    .colab-df-convert {\n",
              "      background-color: #E8F0FE;\n",
              "      border: none;\n",
              "      border-radius: 50%;\n",
              "      cursor: pointer;\n",
              "      display: none;\n",
              "      fill: #1967D2;\n",
              "      height: 32px;\n",
              "      padding: 0 0 0 0;\n",
              "      width: 32px;\n",
              "    }\n",
              "\n",
              "    .colab-df-convert:hover {\n",
              "      background-color: #E2EBFA;\n",
              "      box-shadow: 0px 1px 2px rgba(60, 64, 67, 0.3), 0px 1px 3px 1px rgba(60, 64, 67, 0.15);\n",
              "      fill: #174EA6;\n",
              "    }\n",
              "\n",
              "    [theme=dark] .colab-df-convert {\n",
              "      background-color: #3B4455;\n",
              "      fill: #D2E3FC;\n",
              "    }\n",
              "\n",
              "    [theme=dark] .colab-df-convert:hover {\n",
              "      background-color: #434B5C;\n",
              "      box-shadow: 0px 1px 3px 1px rgba(0, 0, 0, 0.15);\n",
              "      filter: drop-shadow(0px 1px 2px rgba(0, 0, 0, 0.3));\n",
              "      fill: #FFFFFF;\n",
              "    }\n",
              "  </style>\n",
              "\n",
              "      <script>\n",
              "        const buttonEl =\n",
              "          document.querySelector('#df-9fa464cc-7a72-49af-acba-9e261278281d button.colab-df-convert');\n",
              "        buttonEl.style.display =\n",
              "          google.colab.kernel.accessAllowed ? 'block' : 'none';\n",
              "\n",
              "        async function convertToInteractive(key) {\n",
              "          const element = document.querySelector('#df-9fa464cc-7a72-49af-acba-9e261278281d');\n",
              "          const dataTable =\n",
              "            await google.colab.kernel.invokeFunction('convertToInteractive',\n",
              "                                                     [key], {});\n",
              "          if (!dataTable) return;\n",
              "\n",
              "          const docLinkHtml = 'Like what you see? Visit the ' +\n",
              "            '<a target=\"_blank\" href=https://colab.research.google.com/notebooks/data_table.ipynb>data table notebook</a>'\n",
              "            + ' to learn more about interactive tables.';\n",
              "          element.innerHTML = '';\n",
              "          dataTable['output_type'] = 'display_data';\n",
              "          await google.colab.output.renderOutput(dataTable, element);\n",
              "          const docLink = document.createElement('div');\n",
              "          docLink.innerHTML = docLinkHtml;\n",
              "          element.appendChild(docLink);\n",
              "        }\n",
              "      </script>\n",
              "    </div>\n",
              "  </div>\n",
              "  "
            ]
          },
          "metadata": {},
          "execution_count": 18
        }
      ]
    },
    {
      "cell_type": "code",
      "source": [],
      "metadata": {
        "colab": {
          "base_uri": "https://localhost:8080/",
          "height": 409
        },
        "id": "rrrZTzju1bXb",
        "outputId": "1d3d1562-0676-466e-a1d9-24b4cebb5ac1"
      },
      "execution_count": 19,
      "outputs": [
        {
          "output_type": "error",
          "ename": "TypeError",
          "evalue": "ignored",
          "traceback": [
            "\u001b[0;31m---------------------------------------------------------------------------\u001b[0m",
            "\u001b[0;31mTypeError\u001b[0m                                 Traceback (most recent call last)",
            "\u001b[0;32m<ipython-input-19-1dd7c4852573>\u001b[0m in \u001b[0;36m<cell line: 3>\u001b[0;34m()\u001b[0m\n\u001b[1;32m      1\u001b[0m \u001b[0;32mimport\u001b[0m \u001b[0mmatplotlib\u001b[0m\u001b[0;34m.\u001b[0m\u001b[0mpyplot\u001b[0m \u001b[0;32mas\u001b[0m \u001b[0mplt\u001b[0m\u001b[0;34m\u001b[0m\u001b[0;34m\u001b[0m\u001b[0m\n\u001b[1;32m      2\u001b[0m \u001b[0mfig\u001b[0m \u001b[0;34m=\u001b[0m \u001b[0mplt\u001b[0m\u001b[0;34m.\u001b[0m\u001b[0mfigure\u001b[0m\u001b[0;34m(\u001b[0m\u001b[0;34m)\u001b[0m\u001b[0;34m\u001b[0m\u001b[0;34m\u001b[0m\u001b[0m\n\u001b[0;32m----> 3\u001b[0;31m \u001b[0max\u001b[0m \u001b[0;34m=\u001b[0m \u001b[0mfig\u001b[0m\u001b[0;34m.\u001b[0m\u001b[0madd_axes\u001b[0m\u001b[0;34m(\u001b[0m\u001b[0;34m[\u001b[0m\u001b[0;36m0\u001b[0m\u001b[0;34m,\u001b[0m\u001b[0;36m1\u001b[0m\u001b[0;34m]\u001b[0m\u001b[0;34m)\u001b[0m\u001b[0;34m\u001b[0m\u001b[0;34m\u001b[0m\u001b[0m\n\u001b[0m\u001b[1;32m      4\u001b[0m \u001b[0max\u001b[0m\u001b[0;34m.\u001b[0m\u001b[0mbar\u001b[0m\u001b[0;34m(\u001b[0m\u001b[0mdf\u001b[0m\u001b[0;34m[\u001b[0m\u001b[0;34m'label'\u001b[0m\u001b[0;34m]\u001b[0m\u001b[0;34m,\u001b[0m\u001b[0mdf\u001b[0m\u001b[0;34m[\u001b[0m\u001b[0;34m'EDA'\u001b[0m\u001b[0;34m]\u001b[0m\u001b[0;34m)\u001b[0m\u001b[0;34m\u001b[0m\u001b[0;34m\u001b[0m\u001b[0m\n\u001b[1;32m      5\u001b[0m \u001b[0mplt\u001b[0m\u001b[0;34m.\u001b[0m\u001b[0mshow\u001b[0m\u001b[0;34m(\u001b[0m\u001b[0;34m)\u001b[0m\u001b[0;34m\u001b[0m\u001b[0;34m\u001b[0m\u001b[0m\n",
            "\u001b[0;32m/usr/local/lib/python3.10/dist-packages/matplotlib/figure.py\u001b[0m in \u001b[0;36madd_axes\u001b[0;34m(self, *args, **kwargs)\u001b[0m\n\u001b[1;32m    626\u001b[0m \u001b[0;34m\u001b[0m\u001b[0m\n\u001b[1;32m    627\u001b[0m             \u001b[0;31m# create the new axes using the axes class given\u001b[0m\u001b[0;34m\u001b[0m\u001b[0;34m\u001b[0m\u001b[0m\n\u001b[0;32m--> 628\u001b[0;31m             \u001b[0ma\u001b[0m \u001b[0;34m=\u001b[0m \u001b[0mprojection_class\u001b[0m\u001b[0;34m(\u001b[0m\u001b[0mself\u001b[0m\u001b[0;34m,\u001b[0m \u001b[0mrect\u001b[0m\u001b[0;34m,\u001b[0m \u001b[0;34m**\u001b[0m\u001b[0mpkw\u001b[0m\u001b[0;34m)\u001b[0m\u001b[0;34m\u001b[0m\u001b[0;34m\u001b[0m\u001b[0m\n\u001b[0m\u001b[1;32m    629\u001b[0m             \u001b[0mkey\u001b[0m \u001b[0;34m=\u001b[0m \u001b[0;34m(\u001b[0m\u001b[0mprojection_class\u001b[0m\u001b[0;34m,\u001b[0m \u001b[0mpkw\u001b[0m\u001b[0;34m)\u001b[0m\u001b[0;34m\u001b[0m\u001b[0;34m\u001b[0m\u001b[0m\n\u001b[1;32m    630\u001b[0m         \u001b[0;32mreturn\u001b[0m \u001b[0mself\u001b[0m\u001b[0;34m.\u001b[0m\u001b[0m_add_axes_internal\u001b[0m\u001b[0;34m(\u001b[0m\u001b[0ma\u001b[0m\u001b[0;34m,\u001b[0m \u001b[0mkey\u001b[0m\u001b[0;34m)\u001b[0m\u001b[0;34m\u001b[0m\u001b[0;34m\u001b[0m\u001b[0m\n",
            "\u001b[0;32m/usr/local/lib/python3.10/dist-packages/matplotlib/axes/_base.py\u001b[0m in \u001b[0;36m__init__\u001b[0;34m(self, fig, facecolor, frameon, sharex, sharey, label, xscale, yscale, box_aspect, *args, **kwargs)\u001b[0m\n\u001b[1;32m    639\u001b[0m             \u001b[0mself\u001b[0m\u001b[0;34m.\u001b[0m\u001b[0m_position\u001b[0m \u001b[0;34m=\u001b[0m \u001b[0margs\u001b[0m\u001b[0;34m[\u001b[0m\u001b[0;36m0\u001b[0m\u001b[0;34m]\u001b[0m\u001b[0;34m\u001b[0m\u001b[0;34m\u001b[0m\u001b[0m\n\u001b[1;32m    640\u001b[0m         \u001b[0;32melif\u001b[0m \u001b[0mlen\u001b[0m\u001b[0;34m(\u001b[0m\u001b[0margs\u001b[0m\u001b[0;34m)\u001b[0m \u001b[0;34m==\u001b[0m \u001b[0;36m1\u001b[0m \u001b[0;32mand\u001b[0m \u001b[0mnp\u001b[0m\u001b[0;34m.\u001b[0m\u001b[0miterable\u001b[0m\u001b[0;34m(\u001b[0m\u001b[0margs\u001b[0m\u001b[0;34m[\u001b[0m\u001b[0;36m0\u001b[0m\u001b[0;34m]\u001b[0m\u001b[0;34m)\u001b[0m\u001b[0;34m:\u001b[0m\u001b[0;34m\u001b[0m\u001b[0;34m\u001b[0m\u001b[0m\n\u001b[0;32m--> 641\u001b[0;31m             \u001b[0mself\u001b[0m\u001b[0;34m.\u001b[0m\u001b[0m_position\u001b[0m \u001b[0;34m=\u001b[0m \u001b[0mmtransforms\u001b[0m\u001b[0;34m.\u001b[0m\u001b[0mBbox\u001b[0m\u001b[0;34m.\u001b[0m\u001b[0mfrom_bounds\u001b[0m\u001b[0;34m(\u001b[0m\u001b[0;34m*\u001b[0m\u001b[0margs\u001b[0m\u001b[0;34m[\u001b[0m\u001b[0;36m0\u001b[0m\u001b[0;34m]\u001b[0m\u001b[0;34m)\u001b[0m\u001b[0;34m\u001b[0m\u001b[0;34m\u001b[0m\u001b[0m\n\u001b[0m\u001b[1;32m    642\u001b[0m         \u001b[0;32melse\u001b[0m\u001b[0;34m:\u001b[0m\u001b[0;34m\u001b[0m\u001b[0;34m\u001b[0m\u001b[0m\n\u001b[1;32m    643\u001b[0m             \u001b[0mself\u001b[0m\u001b[0;34m.\u001b[0m\u001b[0m_position\u001b[0m \u001b[0;34m=\u001b[0m \u001b[0mself\u001b[0m\u001b[0;34m.\u001b[0m\u001b[0m_originalPosition\u001b[0m \u001b[0;34m=\u001b[0m \u001b[0mmtransforms\u001b[0m\u001b[0;34m.\u001b[0m\u001b[0mBbox\u001b[0m\u001b[0;34m.\u001b[0m\u001b[0munit\u001b[0m\u001b[0;34m(\u001b[0m\u001b[0;34m)\u001b[0m\u001b[0;34m\u001b[0m\u001b[0;34m\u001b[0m\u001b[0m\n",
            "\u001b[0;31mTypeError\u001b[0m: Bbox.from_bounds() missing 2 required positional arguments: 'width' and 'height'"
          ]
        },
        {
          "output_type": "display_data",
          "data": {
            "text/plain": [
              "<Figure size 640x480 with 0 Axes>"
            ]
          },
          "metadata": {}
        }
      ]
    },
    {
      "cell_type": "code",
      "source": [
        "from matplotlib import pyplot as plt\n",
        "import numpy as np\n",
        "plt.rcParams[\"figure.figsize\"] = [7.00, 3.50]\n",
        "plt.rcParams[\"figure.autolayout\"] = True\n",
        "fig = plt.figure()\n",
        "ax = fig.add_subplot(111, projection='3d')\n",
        "img = ax.scatter(df['acc_x'], df['acc_y'], df['acc_z'], c=df['label'], cmap='YlOrRd', alpha=1)\n",
        "plt.show()\n",
        "\n"
      ],
      "metadata": {
        "colab": {
          "base_uri": "https://localhost:8080/",
          "height": 364
        },
        "id": "2ojpBdR5TOhB",
        "outputId": "4d0e2aa9-0321-429f-b7f9-63fa3348e368"
      },
      "execution_count": null,
      "outputs": [
        {
          "output_type": "display_data",
          "data": {
            "text/plain": [
              "<Figure size 700x350 with 1 Axes>"
            ],
            "image/png": "[encoded data removed]"
          },
          "metadata": {}
        }
      ]
    },
    {
      "cell_type": "code",
      "source": [
        "X=df.drop(columns=['label'])"
      ],
      "metadata": {
        "id": "H8tlkjrOqHTr"
      },
      "execution_count": null,
      "outputs": []
    },
    {
      "cell_type": "code",
      "source": [
        "Y=df['label']"
      ],
      "metadata": {
        "id": "0ouAAEmcrOG0"
      },
      "execution_count": null,
      "outputs": []
    },
    {
      "cell_type": "code",
      "source": [
        "from sklearn.model_selection import train_test_split\n",
        "X_train, X_test, y_train, y_test = train_test_split(X, Y, test_size=0.2,shuffle=True ,random_state=2)"
      ],
      "metadata": {
        "id": "jFCXvKz3ruI_"
      },
      "execution_count": null,
      "outputs": []
    },
    {
      "cell_type": "code",
      "source": [
        "from sklearn.tree import DecisionTreeClassifier # Import Decision Tree Classifier\n",
        "\n",
        "from sklearn import metrics #\n",
        "clf = DecisionTreeClassifier()\n",
        "\n",
        "# Train Decision Tree Classifer\n",
        "clf = clf.fit(X_train,y_train)\n",
        "\n"
      ],
      "metadata": {
        "id": "Oo1lafH5Gwrr"
      },
      "execution_count": null,
      "outputs": []
    },
    {
      "cell_type": "code",
      "source": [
        "#Predict the response for test dataset\n",
        "y_pred = clf.predict(X_test)"
      ],
      "metadata": {
        "id": "5Z3lKwdFG3ju"
      },
      "execution_count": null,
      "outputs": []
    },
    {
      "cell_type": "code",
      "source": [
        "from sklearn.metrics import confusion_matrix\n",
        "confusion_matrix(y_test, y_pred)\n"
      ],
      "metadata": {
        "colab": {
          "base_uri": "https://localhost:8080/"
        },
        "id": "a6y01BekEW36",
        "outputId": "54a82174-88c7-4892-ad87-fe5d7155f329"
      },
      "execution_count": null,
      "outputs": [
        {
          "output_type": "execute_result",
          "data": {
            "text/plain": [
              "array([[502156,  22589],\n",
              "       [ 26022, 192019]])"
            ]
          },
          "metadata": {},
          "execution_count": 28
        }
      ]
    },
    {
      "cell_type": "code",
      "source": [
        "print(\"Accuracy:\",metrics.accuracy_score(y_test, y_pred))"
      ],
      "metadata": {
        "colab": {
          "base_uri": "https://localhost:8080/"
        },
        "id": "-MutUqccG92L",
        "outputId": "45130ef4-260d-40d8-8400-f2f619d5a4bb"
      },
      "execution_count": null,
      "outputs": [
        {
          "output_type": "stream",
          "name": "stdout",
          "text": [
            "Accuracy: 0.9345558478485055\n"
          ]
        }
      ]
    },
    {
      "cell_type": "code",
      "source": [
        "from sklearn.metrics import recall_score\n",
        "recall_score(y_test, y_pred)"
      ],
      "metadata": {
        "colab": {
          "base_uri": "https://localhost:8080/"
        },
        "id": "FsrnjkgwEnTA",
        "outputId": "567ba2fc-61c5-4d37-a238-2efd9daa9a87"
      },
      "execution_count": null,
      "outputs": [
        {
          "output_type": "execute_result",
          "data": {
            "text/plain": [
              "0.8806554730532331"
            ]
          },
          "metadata": {},
          "execution_count": 30
        }
      ]
    },
    {
      "cell_type": "code",
      "source": [
        "from sklearn.metrics import precision_score\n",
        "precision_score(y_test, y_pred)"
      ],
      "metadata": {
        "colab": {
          "base_uri": "https://localhost:8080/"
        },
        "id": "ELdiYyLiE46S",
        "outputId": "fea171ea-5749-4718-bac4-30af5ba32566"
      },
      "execution_count": null,
      "outputs": [
        {
          "output_type": "execute_result",
          "data": {
            "text/plain": [
              "0.8947429732349214"
            ]
          },
          "metadata": {},
          "execution_count": 31
        }
      ]
    },
    {
      "cell_type": "code",
      "source": [
        "from sklearn.metrics import f1_score\n",
        "f1_score(y_test, y_pred)"
      ],
      "metadata": {
        "colab": {
          "base_uri": "https://localhost:8080/"
        },
        "id": "uRd5P26vFB7w",
        "outputId": "e4581491-61bd-4fa2-eb58-95a1c7217c89"
      },
      "execution_count": null,
      "outputs": [
        {
          "output_type": "execute_result",
          "data": {
            "text/plain": [
              "0.8876433321237308"
            ]
          },
          "metadata": {},
          "execution_count": 32
        }
      ]
    },
    {
      "cell_type": "code",
      "source": [
        "from sklearn.model_selection import GridSearchCV\n",
        "parameters = {'max_depth':range(3,20)}\n",
        "clf2 = GridSearchCV(DecisionTreeClassifier(), parameters, n_jobs=4)\n",
        "clf2 = clf2.fit(X_train,y_train)\n",
        "\n"
      ],
      "metadata": {
        "id": "rX_EnfuyL_bs"
      },
      "execution_count": null,
      "outputs": []
    },
    {
      "cell_type": "code",
      "source": [
        "tree_model = clf2.best_estimator_\n",
        "# print (clf2.best_score_, clf2.best_params_) \n",
        "tree_model"
      ],
      "metadata": {
        "colab": {
          "base_uri": "https://localhost:8080/",
          "height": 74
        },
        "id": "zzzKVyTgMW5n",
        "outputId": "8ead3ad4-9959-47bb-dee1-51ae6f4be844"
      },
      "execution_count": null,
      "outputs": [
        {
          "output_type": "execute_result",
          "data": {
            "text/plain": [
              "DecisionTreeClassifier(max_depth=19)"
            ],
            "text/html": [
              "<style>#sk-container-id-1 {color: black;background-color: white;}#sk-container-id-1 pre{padding: 0;}#sk-container-id-1 div.sk-toggleable {background-color: white;}#sk-container-id-1 label.sk-toggleable__label {cursor: pointer;display: block;width: 100%;margin-bottom: 0;padding: 0.3em;box-sizing: border-box;text-align: center;}#sk-container-id-1 label.sk-toggleable__label-arrow:before {content: \"▸\";float: left;margin-right: 0.25em;color: #696969;}#sk-container-id-1 label.sk-toggleable__label-arrow:hover:before {color: black;}#sk-container-id-1 div.sk-estimator:hover label.sk-toggleable__label-arrow:before {color: black;}#sk-container-id-1 div.sk-toggleable__content {max-height: 0;max-width: 0;overflow: hidden;text-align: left;background-color: #f0f8ff;}#sk-container-id-1 div.sk-toggleable__content pre {margin: 0.2em;color: black;border-radius: 0.25em;background-color: #f0f8ff;}#sk-container-id-1 input.sk-toggleable__control:checked~div.sk-toggleable__content {max-height: 200px;max-width: 100%;overflow: auto;}#sk-container-id-1 input.sk-toggleable__control:checked~label.sk-toggleable__label-arrow:before {content: \"▾\";}#sk-container-id-1 div.sk-estimator input.sk-toggleable__control:checked~label.sk-toggleable__label {background-color: #d4ebff;}#sk-container-id-1 div.sk-label input.sk-toggleable__control:checked~label.sk-toggleable__label {background-color: #d4ebff;}#sk-container-id-1 input.sk-hidden--visually {border: 0;clip: rect(1px 1px 1px 1px);clip: rect(1px, 1px, 1px, 1px);height: 1px;margin: -1px;overflow: hidden;padding: 0;position: absolute;width: 1px;}#sk-container-id-1 div.sk-estimator {font-family: monospace;background-color: #f0f8ff;border: 1px dotted black;border-radius: 0.25em;box-sizing: border-box;margin-bottom: 0.5em;}#sk-container-id-1 div.sk-estimator:hover {background-color: #d4ebff;}#sk-container-id-1 div.sk-parallel-item::after {content: \"\";width: 100%;border-bottom: 1px solid gray;flex-grow: 1;}#sk-container-id-1 div.sk-label:hover label.sk-toggleable__label {background-color: #d4ebff;}#sk-container-id-1 div.sk-serial::before {content: \"\";position: absolute;border-left: 1px solid gray;box-sizing: border-box;top: 0;bottom: 0;left: 50%;z-index: 0;}#sk-container-id-1 div.sk-serial {display: flex;flex-direction: column;align-items: center;background-color: white;padding-right: 0.2em;padding-left: 0.2em;position: relative;}#sk-container-id-1 div.sk-item {position: relative;z-index: 1;}#sk-container-id-1 div.sk-parallel {display: flex;align-items: stretch;justify-content: center;background-color: white;position: relative;}#sk-container-id-1 div.sk-item::before, #sk-container-id-1 div.sk-parallel-item::before {content: \"\";position: absolute;border-left: 1px solid gray;box-sizing: border-box;top: 0;bottom: 0;left: 50%;z-index: -1;}#sk-container-id-1 div.sk-parallel-item {display: flex;flex-direction: column;z-index: 1;position: relative;background-color: white;}#sk-container-id-1 div.sk-parallel-item:first-child::after {align-self: flex-end;width: 50%;}#sk-container-id-1 div.sk-parallel-item:last-child::after {align-self: flex-start;width: 50%;}#sk-container-id-1 div.sk-parallel-item:only-child::after {width: 0;}#sk-container-id-1 div.sk-dashed-wrapped {border: 1px dashed gray;margin: 0 0.4em 0.5em 0.4em;box-sizing: border-box;padding-bottom: 0.4em;background-color: white;}#sk-container-id-1 div.sk-label label {font-family: monospace;font-weight: bold;display: inline-block;line-height: 1.2em;}#sk-container-id-1 div.sk-label-container {text-align: center;}#sk-container-id-1 div.sk-container {/* jupyter's `normalize.less` sets `[hidden] { display: none; }` but bootstrap.min.css set `[hidden] { display: none !important; }` so we also need the `!important` here to be able to override the default hidden behavior on the sphinx rendered scikit-learn.org. See: https://github.com/scikit-learn/scikit-learn/issues/21755 */display: inline-block !important;position: relative;}#sk-container-id-1 div.sk-text-repr-fallback {display: none;}</style><div id=\"sk-container-id-1\" class=\"sk-top-container\"><div class=\"sk-text-repr-fallback\"><pre>DecisionTreeClassifier(max_depth=19)</pre><b>In a Jupyter environment, please rerun this cell to show the HTML representation or trust the notebook. <br />On GitHub, the HTML representation is unable to render, please try loading this page with nbviewer.org.</b></div><div class=\"sk-container\" hidden><div class=\"sk-item\"><div class=\"sk-estimator sk-toggleable\"><input class=\"sk-toggleable__control sk-hidden--visually\" id=\"sk-estimator-id-1\" type=\"checkbox\" checked><label for=\"sk-estimator-id-1\" class=\"sk-toggleable__label sk-toggleable__label-arrow\">DecisionTreeClassifier</label><div class=\"sk-toggleable__content\"><pre>DecisionTreeClassifier(max_depth=19)</pre></div></div></div></div></div>"
            ]
          },
          "metadata": {},
          "execution_count": 26
        }
      ]
    },
    {
      "cell_type": "code",
      "source": [
        "print (clf2.best_score_, clf2.best_params_) \n"
      ],
      "metadata": {
        "colab": {
          "base_uri": "https://localhost:8080/"
        },
        "id": "n29y8b-nVfpM",
        "outputId": "64036b6e-e371-4e38-e9c8-5777f0280c32"
      },
      "execution_count": null,
      "outputs": [
        {
          "output_type": "stream",
          "name": "stdout",
          "text": [
            "0.9324959889788547 {'max_depth': 19}\n"
          ]
        }
      ]
    },
    {
      "cell_type": "code",
      "source": [
        "from sklearn.ensemble import RandomForestClassifier\n",
        "rf=RandomForestClassifier()\n",
        "rf=rf.fit(X_train, y_train)"
      ],
      "metadata": {
        "id": "fwH5tl13v_ks"
      },
      "execution_count": null,
      "outputs": []
    },
    {
      "cell_type": "code",
      "source": [
        "#Predict the response for test dataset\n",
        "y_pred_rf = rf.predict(X_test)\n",
        "print(\"Accuracy:\",metrics.accuracy_score(y_test, y_pred_rf))"
      ],
      "metadata": {
        "colab": {
          "base_uri": "https://localhost:8080/"
        },
        "id": "OOimZhfkxwMz",
        "outputId": "23c563fc-a000-42c0-a097-87cbcdc1b0cf"
      },
      "execution_count": null,
      "outputs": [
        {
          "output_type": "stream",
          "name": "stdout",
          "text": [
            "Accuracy: 0.9417355739068857\n"
          ]
        }
      ]
    },
    {
      "cell_type": "code",
      "source": [
        "confusion_matrix(y_test, y_pred_rf)"
      ],
      "metadata": {
        "colab": {
          "base_uri": "https://localhost:8080/"
        },
        "id": "j4C2T9T6Fz7A",
        "outputId": "d9a9c136-b36d-477d-caa1-e0bd4b78e669"
      },
      "execution_count": null,
      "outputs": [
        {
          "output_type": "execute_result",
          "data": {
            "text/plain": [
              "array([[505461,  19284],\n",
              "       [ 23994, 194047]])"
            ]
          },
          "metadata": {},
          "execution_count": 35
        }
      ]
    },
    {
      "cell_type": "code",
      "source": [
        "\n",
        "recall_score(y_test, y_pred_rf)"
      ],
      "metadata": {
        "colab": {
          "base_uri": "https://localhost:8080/"
        },
        "id": "SzcyCeOoF2zC",
        "outputId": "23e15f69-e886-444a-b302-fd14aef03595"
      },
      "execution_count": null,
      "outputs": [
        {
          "output_type": "execute_result",
          "data": {
            "text/plain": [
              "0.8899564760756005"
            ]
          },
          "metadata": {},
          "execution_count": 36
        }
      ]
    },
    {
      "cell_type": "code",
      "source": [
        "precision_score(y_test, y_pred_rf)"
      ],
      "metadata": {
        "colab": {
          "base_uri": "https://localhost:8080/"
        },
        "id": "oWOEzC3WF8Ig",
        "outputId": "93de3a82-0b2c-404b-a3aa-ccad6293d67c"
      },
      "execution_count": null,
      "outputs": [
        {
          "output_type": "execute_result",
          "data": {
            "text/plain": [
              "0.9096052613075456"
            ]
          },
          "metadata": {},
          "execution_count": 37
        }
      ]
    },
    {
      "cell_type": "code",
      "source": [
        "f1_score(y_test, y_pred_rf)"
      ],
      "metadata": {
        "colab": {
          "base_uri": "https://localhost:8080/"
        },
        "id": "GpufcnFLGCJB",
        "outputId": "b23dd821-9f86-4ae2-a013-927c8d98e9d4"
      },
      "execution_count": null,
      "outputs": [
        {
          "output_type": "execute_result",
          "data": {
            "text/plain": [
              "0.8996735995845814"
            ]
          },
          "metadata": {},
          "execution_count": 38
        }
      ]
    },
    {
      "cell_type": "code",
      "source": [
        "rf=RandomForestClassifier()\n",
        "from sklearn.model_selection import KFold\n",
        "kf = KFold(n_splits=5, shuffle=True, random_state=42)\n",
        "for train_index, test_index in kf.split(X, Y):\n",
        "    X_train, X_test = X.iloc[train_index], X.iloc[test_index]\n",
        "    y_train, y_test = Y.iloc[train_index], Y.iloc[test_index]\n",
        "    rf.fit(X_train, y_train)\n",
        "    score = rf.score(X_test, y_test)\n",
        "    print(\"Accuracy: \", score)"
      ],
      "metadata": {
        "colab": {
          "base_uri": "https://localhost:8080/"
        },
        "id": "JYnGhfp7zxXL",
        "outputId": "82e1be4c-e2ef-4321-bb46-2e9af7424e53"
      },
      "execution_count": null,
      "outputs": [
        {
          "output_type": "stream",
          "name": "stdout",
          "text": [
            "Accuracy:  0.9413532295977576\n",
            "Accuracy:  0.9416305638501533\n",
            "Accuracy:  0.9415511331662147\n",
            "Accuracy:  0.9415066270858997\n",
            "Accuracy:  0.9421259179978055\n"
          ]
        }
      ]
    },
    {
      "cell_type": "code",
      "source": [],
      "metadata": {
        "id": "BzV2DcRpIJC-"
      },
      "execution_count": null,
      "outputs": []
    }
  ]
}